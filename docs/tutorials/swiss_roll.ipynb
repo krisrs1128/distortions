{
 "cells": [
  {
   "cell_type": "code",
   "execution_count": null,
   "id": "cbf2f848",
   "metadata": {},
   "outputs": [],
   "source": [
    "import numpy as np\n",
    "from sklearn.datasets import make_swiss_roll\n",
    "from sklearn.manifold import TSNE"
   ]
  },
  {
   "cell_type": "code",
   "execution_count": null,
   "id": "c6775283",
   "metadata": {},
   "outputs": [],
   "source": [
    "n_samples = 1500\n",
    "noise = 0.5\n",
    "random_state = 42"
   ]
  },
  {
   "cell_type": "code",
   "execution_count": null,
   "id": "638e053a",
   "metadata": {},
   "outputs": [],
   "source": [
    "X, t = make_swiss_roll(n_samples, noise=0.0, random_state=random_state)\n",
    "rng = np.random.RandomState(random_state)\n",
    "X_noisy = X + noise * rng.normal(size=X.shape)"
   ]
  },
  {
   "cell_type": "code",
   "execution_count": null,
   "id": "4948e6b3",
   "metadata": {},
   "outputs": [],
   "source": [
    "tsne = TSNE(n_components=2, perplexity=100, random_state=random_state, learning_rate='auto')\n",
    "X_emb = tsne.fit_transform(X_noisy)"
   ]
  },
  {
   "cell_type": "code",
   "execution_count": null,
   "id": "8934b7ec",
   "metadata": {},
   "outputs": [],
   "source": [
    "import pandas as pd\n",
    "import altair as alt\n",
    "\n",
    "df = pd.DataFrame({'x': X_emb[:, 0], 'y': X_emb[:, 1], 't': t })\n",
    "alt.Chart(df)\\\n",
    "    .mark_circle(size=30)\\\n",
    "    .encode(\n",
    "        x=alt.X('x', title='t-SNE 1'),\n",
    "        y=alt.Y('y', title='t-SNE 2'),\n",
    "        color=alt.Color('t:Q', title='unrolled coordinate', scale=alt.Scale(scheme='spectral')),\n",
    "    )\\\n",
    "    .properties(title=f\"t-SNE embedding of Swiss Roll (noise={noise})\")"
   ]
  },
  {
   "cell_type": "code",
   "execution_count": null,
   "id": "452aed18",
   "metadata": {},
   "outputs": [],
   "source": [
    "from distortions.geometry import Geometry, bind_metric, local_distortions, neighborhood_distances\n",
    "from distortions.visualization import dplot\n",
    "from anndata import AnnData\n",
    "from sklearn.neighbors import NearestNeighbors\n",
    "\n",
    "n_neighbors = 15\n",
    "geom = Geometry(affinity_kwds={\"radius\": 2}, adjacency_kwds={\"n_neighbors\": n_neighbors})\n",
    "_, Hvv, Hs = local_distortions(X_emb, X_noisy, geom)\n",
    "embedding = bind_metric(X_emb, Hvv, Hs)\n",
    "\n",
    "adata = AnnData(X=X_noisy)\n",
    "nn = NearestNeighbors(n_neighbors=n_neighbors, metric=\"euclidean\").fit(X_noisy)\n",
    "knn_graph = nn.kneighbors_graph(X_noisy, mode=\"distance\")  # sparse CSR matrix\n",
    "adata.obsp[\"distances\"] = knn_graph\n",
    "adata.obsm[\"X_tsne\"] = X_emb"
   ]
  },
  {
   "cell_type": "code",
   "execution_count": null,
   "id": "32d8ed03",
   "metadata": {},
   "outputs": [],
   "source": [
    "distances = neighborhood_distances(adata, \"X_tsne\")\n",
    "plot = dplot(embedding)\\\n",
    "    .mapping(x=\"embedding_0\", y=\"embedding_1\")\\\n",
    "    .inter_boxplot(dists=distances, outlier_iqr=10, highlightColor=\"#F25E7A\", strokeWidth=0.4)\\\n",
    "    .geom_ellipse()"
   ]
  },
  {
   "cell_type": "code",
   "execution_count": null,
   "id": "fd50ea63",
   "metadata": {},
   "outputs": [],
   "source": [
    "plot"
   ]
  },
  {
   "cell_type": "markdown",
   "id": "e1509a33",
   "metadata": {},
   "source": [
    "## MDBD Result"
   ]
  },
  {
   "cell_type": "code",
   "execution_count": null,
   "id": "36597660",
   "metadata": {},
   "outputs": [],
   "source": [
    "pd.DataFrame(X_noisy).to_csv(f\"data/swiss_noise_{noise}.csv\", index=False)\n",
    "pd.DataFrame(X_emb).to_csv(f\"data/swiss_noise_{noise}_embedding.csv\", index=False)"
   ]
  },
  {
   "cell_type": "code",
   "execution_count": null,
   "id": "904a2411",
   "metadata": {},
   "outputs": [],
   "source": [
    "pscores = pd.read_csv(f\"data/pscore_{noise}.csv\")\n",
    "df = pd.DataFrame({'x': X_emb[:, 0], 'y': X_emb[:, 1], 'p': pscores[\"score\"].values })\n",
    "\n",
    "alt.Chart(df)\\\n",
    "    .mark_circle(size=30)\\\n",
    "    .encode(\n",
    "        x=alt.X('x', title='t-SNE 1'),\n",
    "        y=alt.Y('y', title='t-SNE 2'),\n",
    "        color=alt.Color('p:Q', title='pscore', scale=alt.Scale(scheme='teals')),\n",
    "        opacity=alt.Opacity('p:Q', title='pscore')\n",
    "    )\\\n",
    "    .properties(title=f\"Perturbation Scores (noise={noise})\")"
   ]
  },
  {
   "cell_type": "code",
   "execution_count": null,
   "id": "66e11486",
   "metadata": {},
   "outputs": [],
   "source": [
    "pscores[\"score\"].values"
   ]
  },
  {
   "cell_type": "code",
   "execution_count": null,
   "id": "eb31e59f",
   "metadata": {},
   "outputs": [],
   "source": []
  }
 ],
 "metadata": {
  "kernelspec": {
   "display_name": "dist2",
   "language": "python",
   "name": "python3"
  },
  "language_info": {
   "codemirror_mode": {
    "name": "ipython",
    "version": 3
   },
   "file_extension": ".py",
   "mimetype": "text/x-python",
   "name": "python",
   "nbconvert_exporter": "python",
   "pygments_lexer": "ipython3",
   "version": "3.12.2"
  }
 },
 "nbformat": 4,
 "nbformat_minor": 5
}
