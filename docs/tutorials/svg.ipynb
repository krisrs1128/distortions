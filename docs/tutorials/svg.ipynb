{
 "cells": [
  {
   "cell_type": "markdown",
   "id": "a37dd0c3",
   "metadata": {},
   "source": [
    "Let's first save the results from our homepage's quickstart into a plot object. "
   ]
  },
  {
   "cell_type": "code",
   "execution_count": 1,
   "id": "ad2af14e",
   "metadata": {},
   "outputs": [],
   "source": [
    "from distortions.geometry import Geometry, bind_metric, local_distortions, neighborhoods\n",
    "from distortions.visualization import dplot\n",
    "import anndata as ad\n",
    "import numpy as np\n",
    "import scanpy as sc\n",
    "\n",
    "adata = ad.AnnData(np.random.poisson(2, size=(100, 5)))\n",
    "sc.pp.neighbors(adata, n_neighbors=15)\n",
    "sc.tl.umap(adata)\n",
    "\n",
    "geom = Geometry(affinity_kwds={\"radius\": 2}, adjacency_kwds={\"n_neighbors\": 15})\n",
    "_, Hvv, Hs = local_distortions(adata.obsm[\"X_umap\"], adata.X, geom)\n",
    "embedding = bind_metric(adata.obsm[\"X_umap\"], Hvv, Hs)\n",
    "\n",
    "N = neighborhoods(adata, outlier_factor=1)\n",
    "plot = dplot(embedding)\\\n",
    "    .mapping(x=\"embedding_0\", y=\"embedding_1\")\\\n",
    "    .inter_edge_link(N=N)\\\n",
    "    .geom_ellipse()"
   ]
  },
  {
   "cell_type": "markdown",
   "id": "a6e76017",
   "metadata": {},
   "source": [
    "If you print plot, you will see the figure. Hovering the mouse near a point highlights its neighbors. If you double click the figure, it freezes the interactivity."
   ]
  },
  {
   "cell_type": "code",
   "execution_count": 2,
   "id": "52491dfa",
   "metadata": {},
   "outputs": [
    {
     "data": {
      "application/vnd.jupyter.widget-view+json": {
       "model_id": "cff1e61989854ef6920d540bdeb0b97e",
       "version_major": 2,
       "version_minor": 1
      },
      "text/plain": [
       "dplot(dataset=[{'embedding_0': 2.251615047454834, 'embedding_1': 4.680741786956787, 'x0': -0.9575956899353978,…"
      ]
     },
     "execution_count": 2,
     "metadata": {},
     "output_type": "execute_result"
    }
   ],
   "source": [
    "plot"
   ]
  },
  {
   "cell_type": "markdown",
   "id": "586d79b0",
   "metadata": {},
   "source": [
    "![](https://raw.githubusercontent.com/krisrs1128/distortions-data/main/figures/quickstart.gif)"
   ]
  },
  {
   "cell_type": "markdown",
   "id": "6b80dbb8",
   "metadata": {},
   "source": [
    "To save a specific view, call the `save()` method on the plot object. By default, it will save a file `plot.svg` to the current notebook directory. You can specify your own path, but it must be an SVG file."
   ]
  },
  {
   "cell_type": "code",
   "execution_count": 3,
   "id": "390b73c3",
   "metadata": {},
   "outputs": [],
   "source": [
    "plot.save(\"output.svg\")"
   ]
  },
  {
   "cell_type": "markdown",
   "id": "0d1a6705",
   "metadata": {},
   "source": [
    "One known limitation is that you have to at least hover over the SVG before the plot will properly save. This is because anywidget loads some utilities lazily, and we can't save until some interactions have been made. The first time you run `plot.save()` (before any interactions), it might save an empty svg file to the directory."
   ]
  },
  {
   "cell_type": "code",
   "execution_count": 4,
   "id": "8eae6fc0",
   "metadata": {},
   "outputs": [
    {
     "data": {
      "application/vnd.jupyter.widget-view+json": {
       "model_id": "297155dc90df4ba7beb9c3c29faaa540",
       "version_major": 2,
       "version_minor": 1
      },
      "text/plain": [
       "dplot(dataset=[{'embedding_0': 2.251615047454834, 'embedding_1': 4.680741786956787, 'x0': -0.9575956899353978,…"
      ]
     },
     "execution_count": 4,
     "metadata": {},
     "output_type": "execute_result"
    }
   ],
   "source": [
    "embedding = adata.obsm[\"X_umap\"].copy()\n",
    "radius = 3 * np.mean(adata.obsp[\"distances\"].data)\n",
    "geom = Geometry(\"brute\", laplacian_method=\"geometric\", laplacian_kwds={\"scaling_epps\": 5}, adjacency_kwds={\"n_neighbors\": 15}, affinity_kwds={\"radius\": radius})\n",
    "H, _, _ = local_distortions(embedding, adata.X, geom)\n",
    "metrics = {k: H[k] for k in range(len(H))}\n",
    "embedding = bind_metric(embedding, Hvv, Hs)\n",
    "\n",
    "plot = dplot(embedding)\\\n",
    "    .mapping(x=\"embedding_0\", y=\"embedding_1\")\\\n",
    "    .inter_isometry(metrics=metrics)\\\n",
    "    .geom_ellipse()\n",
    "plot"
   ]
  },
  {
   "cell_type": "markdown",
   "id": "61743ce7",
   "metadata": {},
   "source": [
    "In some cases, we don't need to save the visualization but do want to extract the coordinates after local correction. In this case, we can run the `.correct()` method on the plot object. If you interact with the scatterplot, freeze the view (escape or double click), and then rerun `.correct()`, you will see a new DataFrame giving the coordinates of the updated ellipses in the `embedding_0` and `embedding_1` columns. The new ellipse axes lengths and orientations are given by the remaining columns `s0`, ..., `y0`.  The `kernel` columns provide the relatively distance between the mouse position and each sample."
   ]
  },
  {
   "cell_type": "code",
   "execution_count": 6,
   "id": "f3136ddd",
   "metadata": {},
   "outputs": [
    {
     "data": {
      "text/html": [
       "<div>\n",
       "<style scoped>\n",
       "    .dataframe tbody tr th:only-of-type {\n",
       "        vertical-align: middle;\n",
       "    }\n",
       "\n",
       "    .dataframe tbody tr th {\n",
       "        vertical-align: top;\n",
       "    }\n",
       "\n",
       "    .dataframe thead th {\n",
       "        text-align: right;\n",
       "    }\n",
       "</style>\n",
       "<table border=\"1\" class=\"dataframe\">\n",
       "  <thead>\n",
       "    <tr style=\"text-align: right;\">\n",
       "      <th></th>\n",
       "      <th>embedding_0</th>\n",
       "      <th>embedding_1</th>\n",
       "      <th>s0</th>\n",
       "      <th>s1</th>\n",
       "      <th>x0</th>\n",
       "      <th>y0</th>\n",
       "      <th>new_angle</th>\n",
       "      <th>kernel_transform</th>\n",
       "      <th>kernel_metric</th>\n",
       "      <th>_id</th>\n",
       "    </tr>\n",
       "  </thead>\n",
       "  <tbody>\n",
       "    <tr>\n",
       "      <th>0</th>\n",
       "      <td>2.253500</td>\n",
       "      <td>4.691962</td>\n",
       "      <td>1.189334</td>\n",
       "      <td>0.521185</td>\n",
       "      <td>-0.957538</td>\n",
       "      <td>-0.287099</td>\n",
       "      <td>106.690346</td>\n",
       "      <td>0.001487</td>\n",
       "      <td>7.272600e-15</td>\n",
       "      <td>0</td>\n",
       "    </tr>\n",
       "    <tr>\n",
       "      <th>1</th>\n",
       "      <td>1.297185</td>\n",
       "      <td>5.729176</td>\n",
       "      <td>0.564175</td>\n",
       "      <td>0.108757</td>\n",
       "      <td>0.010630</td>\n",
       "      <td>0.996738</td>\n",
       "      <td>179.388973</td>\n",
       "      <td>0.003757</td>\n",
       "      <td>7.489159e-13</td>\n",
       "      <td>1</td>\n",
       "    </tr>\n",
       "    <tr>\n",
       "      <th>2</th>\n",
       "      <td>-0.040127</td>\n",
       "      <td>5.807181</td>\n",
       "      <td>0.469599</td>\n",
       "      <td>0.174629</td>\n",
       "      <td>-0.698313</td>\n",
       "      <td>-0.685908</td>\n",
       "      <td>134.486510</td>\n",
       "      <td>0.022907</td>\n",
       "      <td>6.307720e-09</td>\n",
       "      <td>2</td>\n",
       "    </tr>\n",
       "    <tr>\n",
       "      <th>3</th>\n",
       "      <td>0.179831</td>\n",
       "      <td>7.515899</td>\n",
       "      <td>1.478568</td>\n",
       "      <td>0.152504</td>\n",
       "      <td>-0.818625</td>\n",
       "      <td>0.573564</td>\n",
       "      <td>54.983286</td>\n",
       "      <td>0.000743</td>\n",
       "      <td>2.258193e-16</td>\n",
       "      <td>3</td>\n",
       "    </tr>\n",
       "    <tr>\n",
       "      <th>4</th>\n",
       "      <td>-0.551927</td>\n",
       "      <td>5.432266</td>\n",
       "      <td>0.396329</td>\n",
       "      <td>0.129073</td>\n",
       "      <td>-0.600575</td>\n",
       "      <td>-0.677469</td>\n",
       "      <td>138.443051</td>\n",
       "      <td>0.089386</td>\n",
       "      <td>5.706070e-06</td>\n",
       "      <td>4</td>\n",
       "    </tr>\n",
       "    <tr>\n",
       "      <th>...</th>\n",
       "      <td>...</td>\n",
       "      <td>...</td>\n",
       "      <td>...</td>\n",
       "      <td>...</td>\n",
       "      <td>...</td>\n",
       "      <td>...</td>\n",
       "      <td>...</td>\n",
       "      <td>...</td>\n",
       "      <td>...</td>\n",
       "      <td>...</td>\n",
       "    </tr>\n",
       "    <tr>\n",
       "      <th>95</th>\n",
       "      <td>3.052271</td>\n",
       "      <td>6.196152</td>\n",
       "      <td>1.107401</td>\n",
       "      <td>0.468267</td>\n",
       "      <td>-0.989551</td>\n",
       "      <td>0.144182</td>\n",
       "      <td>81.710090</td>\n",
       "      <td>0.000114</td>\n",
       "      <td>1.888404e-20</td>\n",
       "      <td>95</td>\n",
       "    </tr>\n",
       "    <tr>\n",
       "      <th>96</th>\n",
       "      <td>2.116971</td>\n",
       "      <td>4.225777</td>\n",
       "      <td>0.997708</td>\n",
       "      <td>0.388609</td>\n",
       "      <td>-0.888953</td>\n",
       "      <td>-0.454999</td>\n",
       "      <td>117.105059</td>\n",
       "      <td>0.002240</td>\n",
       "      <td>5.633209e-14</td>\n",
       "      <td>96</td>\n",
       "    </tr>\n",
       "    <tr>\n",
       "      <th>97</th>\n",
       "      <td>0.747469</td>\n",
       "      <td>7.569689</td>\n",
       "      <td>0.453943</td>\n",
       "      <td>0.272769</td>\n",
       "      <td>-0.930161</td>\n",
       "      <td>0.366900</td>\n",
       "      <td>68.473318</td>\n",
       "      <td>0.000427</td>\n",
       "      <td>1.420033e-17</td>\n",
       "      <td>97</td>\n",
       "    </tr>\n",
       "    <tr>\n",
       "      <th>98</th>\n",
       "      <td>-1.190607</td>\n",
       "      <td>5.257383</td>\n",
       "      <td>0.405093</td>\n",
       "      <td>0.068417</td>\n",
       "      <td>-0.885394</td>\n",
       "      <td>-0.266060</td>\n",
       "      <td>106.725458</td>\n",
       "      <td>0.188436</td>\n",
       "      <td>2.375840e-04</td>\n",
       "      <td>98</td>\n",
       "    </tr>\n",
       "    <tr>\n",
       "      <th>99</th>\n",
       "      <td>-0.192613</td>\n",
       "      <td>5.103302</td>\n",
       "      <td>0.722695</td>\n",
       "      <td>0.400038</td>\n",
       "      <td>-0.174792</td>\n",
       "      <td>0.833222</td>\n",
       "      <td>11.847601</td>\n",
       "      <td>0.115656</td>\n",
       "      <td>2.069342e-05</td>\n",
       "      <td>99</td>\n",
       "    </tr>\n",
       "  </tbody>\n",
       "</table>\n",
       "<p>100 rows × 10 columns</p>\n",
       "</div>"
      ],
      "text/plain": [
       "    embedding_0  embedding_1        s0        s1        x0        y0  \\\n",
       "0      2.253500     4.691962  1.189334  0.521185 -0.957538 -0.287099   \n",
       "1      1.297185     5.729176  0.564175  0.108757  0.010630  0.996738   \n",
       "2     -0.040127     5.807181  0.469599  0.174629 -0.698313 -0.685908   \n",
       "3      0.179831     7.515899  1.478568  0.152504 -0.818625  0.573564   \n",
       "4     -0.551927     5.432266  0.396329  0.129073 -0.600575 -0.677469   \n",
       "..          ...          ...       ...       ...       ...       ...   \n",
       "95     3.052271     6.196152  1.107401  0.468267 -0.989551  0.144182   \n",
       "96     2.116971     4.225777  0.997708  0.388609 -0.888953 -0.454999   \n",
       "97     0.747469     7.569689  0.453943  0.272769 -0.930161  0.366900   \n",
       "98    -1.190607     5.257383  0.405093  0.068417 -0.885394 -0.266060   \n",
       "99    -0.192613     5.103302  0.722695  0.400038 -0.174792  0.833222   \n",
       "\n",
       "     new_angle  kernel_transform  kernel_metric  _id  \n",
       "0   106.690346          0.001487   7.272600e-15    0  \n",
       "1   179.388973          0.003757   7.489159e-13    1  \n",
       "2   134.486510          0.022907   6.307720e-09    2  \n",
       "3    54.983286          0.000743   2.258193e-16    3  \n",
       "4   138.443051          0.089386   5.706070e-06    4  \n",
       "..         ...               ...            ...  ...  \n",
       "95   81.710090          0.000114   1.888404e-20   95  \n",
       "96  117.105059          0.002240   5.633209e-14   96  \n",
       "97   68.473318          0.000427   1.420033e-17   97  \n",
       "98  106.725458          0.188436   2.375840e-04   98  \n",
       "99   11.847601          0.115656   2.069342e-05   99  \n",
       "\n",
       "[100 rows x 10 columns]"
      ]
     },
     "execution_count": 6,
     "metadata": {},
     "output_type": "execute_result"
    }
   ],
   "source": [
    "plot.correct()"
   ]
  },
  {
   "cell_type": "code",
   "execution_count": null,
   "id": "33b49fd5",
   "metadata": {},
   "outputs": [],
   "source": []
  }
 ],
 "metadata": {
  "kernelspec": {
   "display_name": "dist2",
   "language": "python",
   "name": "python3"
  },
  "language_info": {
   "codemirror_mode": {
    "name": "ipython",
    "version": 3
   },
   "file_extension": ".py",
   "mimetype": "text/x-python",
   "name": "python",
   "nbconvert_exporter": "python",
   "pygments_lexer": "ipython3",
   "version": "3.12.2"
  }
 },
 "nbformat": 4,
 "nbformat_minor": 5
}
