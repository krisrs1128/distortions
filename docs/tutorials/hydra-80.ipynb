{
 "cells": [
  {
   "cell_type": "code",
   "execution_count": null,
   "id": "8ebcfac5",
   "metadata": {},
   "outputs": [],
   "source": [
    "import random\n",
    "import scanpy as sc\n",
    "import numpy as np\n",
    "import urllib.request\n",
    "import tempfile\n",
    "\n",
    "random.seed(20250409)\n",
    "\n",
    "temp_file = tempfile.mktemp(suffix=\".h5ad\")\n",
    "urllib.request.urlretrieve(\"https://uwmadison.box.com/shared/static/gp1d9akvyq5r7a0rzxw27n86zlqe0d7f.h5ad\", temp_file)\n",
    "adata = sc.read_h5ad(temp_file)\n",
    "adata.X = adata.X.todense()\n",
    "\n",
    "sc.pp.normalize_total(adata)\n",
    "sc.pp.log1p(adata)\n",
    "sc.pp.highly_variable_genes(adata, n_top_genes=1000)\n",
    "\n",
    "n_neighbors = 50\n",
    "ix = np.random.choice(len(adata), 2000, replace=False)\n",
    "adata = adata[ix, adata.var.highly_variable]\n",
    "sc.pp.neighbors(adata, n_neighbors=n_neighbors)\n",
    "sc.tl.tsne(adata, n_pcs=30, perplexity=80)"
   ]
  },
  {
   "cell_type": "code",
   "execution_count": null,
   "id": "33711433",
   "metadata": {},
   "outputs": [],
   "source": [
    "from distortions.geometry import Geometry, bind_metric, local_distortions\n",
    "\n",
    "embedding = adata.obsm[\"X_tsne\"].copy()\n",
    "radius = 3 * np.mean(adata.obsp[\"distances\"].data)\n",
    "geom = Geometry(\"brute\", laplacian_method=\"geometric\", affinity_kwds={\"radius\": radius}, adjacency_kwds={\"n_neighbors\": n_neighbors}, laplacian_kwds={\"scaling_epps\": 5})\n",
    "H, Hvv, Hs = local_distortions(embedding, adata.X, geom)\n",
    "embedding = bind_metric(embedding, Hvv, Hs)\n",
    "embedding[\"ident\"] = adata.obs[\"ident\"].str.split(\"-\").str[1].values"
   ]
  },
  {
   "cell_type": "code",
   "execution_count": null,
   "id": "8ddaeed5",
   "metadata": {},
   "outputs": [],
   "source": [
    "import altair as alt\n",
    "alt.data_transformers.enable(\"vegafusion\")\n",
    "\n",
    "alt.Chart(embedding).mark_circle(opacity=1).encode(\n",
    "    x=alt.X(\"embedding_0\"),\n",
    "    y=alt.Y(\"embedding_1\")\n",
    ").properties(width=400, height=400)"
   ]
  },
  {
   "cell_type": "code",
   "execution_count": null,
   "id": "b8cccc68",
   "metadata": {},
   "outputs": [],
   "source": [
    "from distortions.visualization import dplot\n",
    "from distortions.geometry import neighborhoods\n",
    "\n",
    "plots = {}\n",
    "N = neighborhoods(adata, threshold=.2, outlier_factor=3, embed_key=\"X_tsne\", frame=[100, 100], method=\"window\")\n",
    "plots[\"hydra_link_80\"] = dplot(embedding, width=440, height=440)\\\n",
    "   .mapping(x=\"embedding_0\", y=\"embedding_1\")\\\n",
    "   .inter_edge_link(N=N, threshold=3, stroke=\"#F25E7A\", highlightColor=\"#F25E7A\", backgroundOpacity=0.2, strokeWidth=0.2, opacity=0.6)\\\n",
    "   .geom_ellipse(radiusMax=10, radiusMin=.8)\\\n",
    "   .labs(x=\"t-SNE 1\", y=\"t-SNE 2\")"
   ]
  },
  {
   "cell_type": "code",
   "execution_count": null,
   "id": "ff59ea2e",
   "metadata": {},
   "outputs": [],
   "source": [
    "metrics = {k: H[k] for k in range(len(H))}\n",
    "dplot(embedding, width=440, height=440)\\\n",
    "    .mapping(x=\"embedding_0\", y=\"embedding_1\")\\\n",
    "    .inter_isometry(metrics=metrics, metrics_bw=.05, transformation_bw=.1)\\\n",
    "    .geom_ellipse(radiusMax=10, radiusMin=.8)\\\n",
    "    .labs(x=\"t-SNE 1\", y=\"t-SNE 2\")"
   ]
  },
  {
   "cell_type": "code",
   "execution_count": null,
   "id": "9452443c",
   "metadata": {},
   "outputs": [],
   "source": [
    "from distortions.geometry import neighborhood_distances\n",
    "\n",
    "dists = neighborhood_distances(adata, embed_key=\"X_tsne\")\n",
    "dplot(embedding, width=550, height=440)\\\n",
    "    .mapping(x=\"embedding_0\", y=\"embedding_1\")\\\n",
    "    .geom_ellipse(radiusMax=8, radiusMin=.5)\\\n",
    "    .inter_boxplot(dists=dists, strokeWidth=0.2)\\\n",
    "    .labs(x = \"t-SNE 1\", y = \"t-SNE 2\")"
   ]
  },
  {
   "cell_type": "code",
   "execution_count": null,
   "id": "4a0c3db5",
   "metadata": {},
   "outputs": [],
   "source": [
    "#[p.save(f\"../paper/figures/{k}.svg\") for k, p in plots.items()]"
   ]
  },
  {
   "cell_type": "code",
   "execution_count": null,
   "id": "8b0c0124",
   "metadata": {},
   "outputs": [],
   "source": [
    "[display(p) for p in plots.values()]"
   ]
  },
  {
   "cell_type": "code",
   "execution_count": null,
   "id": "a0656b98",
   "metadata": {},
   "outputs": [],
   "source": []
  }
 ],
 "metadata": {
  "kernelspec": {
   "display_name": "dist2",
   "language": "python",
   "name": "python3"
  },
  "language_info": {
   "codemirror_mode": {
    "name": "ipython",
    "version": 3
   },
   "file_extension": ".py",
   "mimetype": "text/x-python",
   "name": "python",
   "nbconvert_exporter": "python",
   "pygments_lexer": "ipython3",
   "version": "3.12.2"
  }
 },
 "nbformat": 4,
 "nbformat_minor": 5
}
