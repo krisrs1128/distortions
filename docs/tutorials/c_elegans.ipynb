{
 "cells": [
  {
   "cell_type": "code",
   "execution_count": null,
   "metadata": {},
   "outputs": [],
   "source": [
    "import numpy as np\n",
    "import pandas as pd\n",
    "import matplotlib.pyplot as plt\n",
    "from distortions.geometry import neighborhoods, Geometry, local_distortions, bind_metric\n",
    "from distortions.visualization import dplot\n",
    "import numpy as np\n",
    "import scanpy as sc\n",
    "import altair as alt"
   ]
  },
  {
   "cell_type": "code",
   "execution_count": null,
   "metadata": {},
   "outputs": [],
   "source": [
    "data_path = \"data/c-elegans_qc_final.txt\"\n",
    "metadata_path = \"data/c-elegans_qc_final_metadata.txt\"\n",
    "\n",
    "data = np.loadtxt(data_path, delimiter=\"\\t\")\n",
    "metadata = pd.read_csv(metadata_path, sep=\",\")\n",
    "\n",
    "print(\"Data shape:\", data.shape)\n",
    "print(\"Metadata shape:\", metadata.shape)"
   ]
  },
  {
   "cell_type": "code",
   "execution_count": null,
   "metadata": {},
   "outputs": [],
   "source": [
    "# chech min max value of data\n",
    "print(\"Data min value:\", np.min(data))\n",
    "print(\"Data max value:\", np.max(data))"
   ]
  },
  {
   "cell_type": "code",
   "execution_count": null,
   "metadata": {},
   "outputs": [],
   "source": [
    "metadata"
   ]
  },
  {
   "cell_type": "code",
   "execution_count": null,
   "metadata": {},
   "outputs": [],
   "source": [
    "colors = pd.Categorical(metadata['cell.type']).codes\n",
    "label_pick = [24, 14, 2, 34]\n",
    "from collections import defaultdict\n",
    "\n",
    "def sampling(source, num_sample, label_pick):    \n",
    "    class_indices = defaultdict(list)\n",
    "    for idx, label in enumerate(source):\n",
    "        class_indices[label].append(idx)\n",
    "\n",
    "    # Randomly sample points from each class\n",
    "    rng = np.random.default_rng(seed=42)  # Set a seed for reproducibility\n",
    "    sampled_indices = []\n",
    "    for label, indices in class_indices.items():\n",
    "        if label in label_pick:\n",
    "            n_class_samples = min(len(indices), num_sample)  # Equal sampling\n",
    "            sampled_indices.extend(rng.choice(indices, n_class_samples, replace=False))\n",
    "    return sampled_indices\n",
    "\n",
    "sampled_indices = sampling(colors, 1000, label_pick)"
   ]
  },
  {
   "cell_type": "code",
   "execution_count": null,
   "metadata": {},
   "outputs": [],
   "source": [
    "from scipy.spatial import KDTree\n",
    "\n",
    "tree = KDTree(data)\n",
    "dists, _ = tree.query(data, k=3)"
   ]
  },
  {
   "cell_type": "code",
   "execution_count": null,
   "metadata": {},
   "outputs": [],
   "source": [
    "n_neighbors = 10\n",
    "radius = 3 * np.mean(dists)\n",
    "geom = Geometry(\"brute\", laplacian_method=\"geometric\", affinity_kwds={\"radius\": radius}, adjacency_kwds={\"n_neighbors\": n_neighbors}, laplacian_kwds={\"scaling_epps\": 5})"
   ]
  },
  {
   "cell_type": "markdown",
   "metadata": {},
   "source": [
    "## UMAP and DenseUmap"
   ]
  },
  {
   "cell_type": "code",
   "execution_count": null,
   "metadata": {},
   "outputs": [],
   "source": [
    "# set random seed for reproducibility\n",
    "np.random.seed(42)\n",
    "import umap\n",
    "embedding_dumap = umap.UMAP(n_neighbors=10, n_components=2, n_epochs=500, densmap = True).fit_transform(data)\n",
    "embedding_umap = umap.UMAP(n_neighbors=10, n_components=2, n_epochs=500, densmap = False).fit_transform(data)"
   ]
  },
  {
   "cell_type": "code",
   "execution_count": null,
   "metadata": {},
   "outputs": [],
   "source": [
    "plt.figure(figsize=(8, 6))\n",
    "fig_umpa =plt.scatter(embedding_umap[:, 0], embedding_umap[:, 1], \n",
    "            c=pd.Categorical(metadata['cell.type']).codes, cmap='viridis', s=1)\n",
    "plt.colorbar(fig_umpa, label='Cell Type')\n",
    "plt.title(\"UMAP Embedding of C.elegans Dataset\")\n",
    "plt.xlabel(\"Dimension 1\")\n",
    "plt.ylabel(\"Dimension 2\")\n",
    "plt.show()"
   ]
  },
  {
   "cell_type": "code",
   "execution_count": null,
   "metadata": {},
   "outputs": [],
   "source": [
    "plt.figure(figsize=(8, 6))\n",
    "fig_umpa =plt.scatter(embedding_dumap[:, 0], embedding_dumap[:, 1], \n",
    "            c=pd.Categorical(metadata['cell.type']).codes, cmap='viridis', s=1)\n",
    "plt.colorbar(fig_umpa, label='Cell Type')\n",
    "plt.title(\"DenseUMAP Embedding of C.elegans Dataset\")\n",
    "plt.xlabel(\"Dimension 1\")\n",
    "plt.ylabel(\"Dimension 2\")\n",
    "plt.show()"
   ]
  },
  {
   "cell_type": "code",
   "execution_count": null,
   "metadata": {},
   "outputs": [],
   "source": [
    "# transfer a numpy data to anndata\n",
    "import anndata as ad\n",
    "adata = ad.AnnData(X=data[sampled_indices])\n",
    "adata.X.shape\n",
    "adata.obsm[\"X_UMAP\"] = embedding_umap[sampled_indices]\n",
    "adata.obsm[\"X_DenseUMAP\"] = embedding_dumap[sampled_indices]\n",
    "adata.obs[\"cell_type\"] = metadata['cell.type'].values[sampled_indices]\n",
    "sc.pp.neighbors(adata, n_neighbors=50, n_pcs=40, method='gauss')"
   ]
  },
  {
   "cell_type": "code",
   "execution_count": null,
   "metadata": {},
   "outputs": [],
   "source": [
    "umap_embed_test = adata.obsm[\"X_UMAP\"].copy()\n",
    "geom = Geometry(\"brute\", laplacian_method=\"geometric\", affinity_kwds={\"radius\": radius}, adjacency_kwds={\"n_neighbors\": n_neighbors}, laplacian_kwds={\"scaling_epps\": radius})\n",
    "H, Hvv, Hs = local_distortions(umap_embed_test, adata.X, geom)\n",
    "umap_embed_test = bind_metric(umap_embed_test, Hvv, Hs)\n",
    "umap_embed_test[\"cell_type\"] = adata.obs[\"cell_type\"].values"
   ]
  },
  {
   "cell_type": "code",
   "execution_count": null,
   "metadata": {},
   "outputs": [],
   "source": [
    "N = neighborhoods(adata, threshold=.2, outlier_factor=2, method=\"box\", embed_key=\"X_UMAP\")\n",
    "dplot(umap_embed_test, width=600, height=500)\\\n",
    "    .mapping(x=\"embedding_0\", y=\"embedding_1\", color=\"cell_type\")\\\n",
    "    .geom_ellipse(radiusMax=8, radiusMin=2)\\\n",
    "    .scale_color(legendTextSize=8)\\\n",
    "    .labs(x=\"UMAP 1\", y=\"UMAP 2\")\\\n",
    "    .inter_edge_link(N=N, threshold=1, backgroundOpacity=0.4, strokeWidth=0.1, strokeOpacity=1, highlightStrokeWidth=0.1)"
   ]
  },
  {
   "cell_type": "code",
   "execution_count": null,
   "metadata": {},
   "outputs": [],
   "source": [
    "from distortions.geometry import Geometry, bind_metric, local_distortions\n",
    "dumap_embed_test = adata.obsm[\"X_DenseUMAP\"].copy()\n",
    "geom = Geometry(\"brute\", laplacian_method=\"geometric\", affinity_kwds={\"radius\": radius}, adjacency_kwds={\"n_neighbors\": n_neighbors}, laplacian_kwds={\"scaling_epps\": radius})\n",
    "H, Hvv, Hs = local_distortions(dumap_embed_test, adata.X, geom)\n",
    "dumap_embed_test = bind_metric(dumap_embed_test, Hvv, Hs)\n",
    "dumap_embed_test[\"cell_type\"] = adata.obs[\"cell_type\"].values"
   ]
  },
  {
   "cell_type": "code",
   "execution_count": null,
   "metadata": {},
   "outputs": [],
   "source": [
    "N = neighborhoods(adata, threshold=.02, outlier_factor=2, method=\"box\", embed_key=\"X_UMAP\")\n",
    "dplot(dumap_embed_test, width=600, height=500)\\\n",
    "    .mapping(x=\"embedding_0\", y=\"embedding_1\", color=\"cell_type\")\\\n",
    "    .geom_ellipse()\\\n",
    "    .scale_color(legendTextSize=8)\\\n",
    "    .labs(x=\"DenseUMAP 1\", y=\"DenseUMAP 2\")\\\n",
    "    .inter_edge_link(N=N, threshold=1, backgroundOpacity=0.4, strokeWidth=0.1, strokeOpacity=1, highlightStrokeWidth=0.1)"
   ]
  },
  {
   "cell_type": "code",
   "execution_count": null,
   "metadata": {},
   "outputs": [],
   "source": [
    "from distortions.geometry.neighborhoods import broken_knn, neighbor_generator\n",
    "\n",
    "brokens = broken_knn(adata.obsm['X_UMAP'], k=5, z_thresh=2.0) # after I found the broken points\n",
    "broken_neighbors = neighbor_generator(embedding_umap, [sampled_indices[i] for i in brokens], number_neighbor=10) # generate neighbor dict\n",
    "broken_neighbors"
   ]
  },
  {
   "cell_type": "code",
   "execution_count": null,
   "metadata": {},
   "outputs": [],
   "source": [
    "#broken_neighbors[52388]\n",
    "broken_neighbors[57113]"
   ]
  },
  {
   "cell_type": "code",
   "execution_count": null,
   "metadata": {},
   "outputs": [],
   "source": [
    "#point = 52388\n",
    "point = 57113\n",
    "adata_add = ad.AnnData(X=data[sampled_indices+ broken_neighbors[point]])\n",
    "adata_add.obsm[\"X_DUMAP\"] = embedding_umap[sampled_indices + broken_neighbors[point]]"
   ]
  },
  {
   "cell_type": "code",
   "execution_count": null,
   "metadata": {},
   "outputs": [],
   "source": [
    "from distortions.visualization import dplot\n",
    "geom = Geometry(\"brute\", laplacian_method=\"geometric\", affinity_kwds={\"radius\": radius}, adjacency_kwds={\"n_neighbors\": n_neighbors}, laplacian_kwds={\"scaling_epps\": radius})\n",
    "H, Hvv, Hs = local_distortions(adata.obsm['X_DenseUMAP'], adata.X, geom)\n",
    "embedding_test_1 = bind_metric(embedding_umap[sampled_indices], Hvv, Hs)\n",
    "embedding_test_1[\"cell_type\"] = pd.Categorical(metadata['cell.type'])[sampled_indices]\n",
    "metrics = {k: H[k] for k in range(len(H))}\n",
    "dplot(embedding_test_1, width=900, height=500)\\\n",
    "    .mapping(x=\"embedding_0\", y=\"embedding_1\", angle=\"angle\", a=\"s0\", b=\"s1\", color=\"cell_type\")\\\n",
    "    .geom_ellipse()\\\n",
    "    .inter_isometry(metrics=metrics, metric_bw=3, transformation_bw=1)\\\n",
    "    .scale_color()\\\n",
    "    .labs(x=\"x-axis\", y=\"y-axis\")"
   ]
  },
  {
   "cell_type": "code",
   "execution_count": null,
   "metadata": {},
   "outputs": [],
   "source": [
    "geom = Geometry(\"brute\", laplacian_method=\"geometric\", affinity_kwds={\"radius\": radius}, adjacency_kwds={\"n_neighbors\": n_neighbors}, laplacian_kwds={\"scaling_epps\": 5})\n",
    "H, Hvv, Hs = local_distortions(adata_add.obsm[\"X_DUMAP\"], adata_add.X, geom)\n",
    "embedding_test_2 = bind_metric(embedding_dumap[sampled_indices + broken_neighbors[point]], Hvv, Hs)\n",
    "embedding_test_2[\"cell_type\"] = pd.Categorical(metadata['cell.type'])[sampled_indices + broken_neighbors[point]]\n",
    "metrics = {k: H[k] for k in range(len(H))}\n",
    "dplot(embedding_test_2, width=900, height=500)\\\n",
    "    .mapping(x=\"embedding_0\", y=\"embedding_1\", angle=\"angle\", a=\"s0\", b=\"s1\", color=\"cell_type\")\\\n",
    "    .geom_ellipse()\\\n",
    "    .inter_isometry(metrics=metrics, metric_bw=3, transformation_bw=1)\\\n",
    "    .scale_color()\\\n",
    "    .labs(x=\"x-axis\", y=\"y-axis\")"
   ]
  },
  {
   "cell_type": "code",
   "execution_count": null,
   "metadata": {},
   "outputs": [],
   "source": [
    "dplot(embedding_test_1, width=700, height=500)\\\n",
    "    .mapping(x=\"embedding_0\", y=\"embedding_1\", angle=\"angle\", a=\"s0\", b=\"s1\", color=\"cell_type\")\\\n",
    "    .geom_hair(radiusMin=1, radiusMax=20)\\\n",
    "    .scale_color(legendTextSize=7)\\\n",
    "    .labs(x=\"UMAP-x\", y=\"UMAP-y\")"
   ]
  },
  {
   "cell_type": "code",
   "execution_count": null,
   "metadata": {},
   "outputs": [],
   "source": [
    "dplot(embedding_test_2, width=700, height=500)\\\n",
    "    .mapping(x=\"embedding_0\", y=\"embedding_1\", angle=\"angle\", a=\"s0\", b=\"s1\", color=\"cell_type\")\\\n",
    "    .geom_hair()\\\n",
    "    .scale_color(legendTextSize=7)\\\n",
    "    .labs(x=\"DensMAP-x\", y=\"DensMAP-y\")"
   ]
  },
  {
   "cell_type": "code",
   "execution_count": null,
   "metadata": {},
   "outputs": [],
   "source": [
    "rng = np.random.default_rng(seed=42)\n",
    "\n",
    "cell_types = metadata['cell.type'].dropna().unique()\n",
    "selected_types = rng.choice(cell_types, size=10, replace=False)\n",
    "\n",
    "n_per_type = 5000\n",
    "random_indices = []\n",
    "for ct in selected_types:\n",
    "    idx = metadata.index[metadata['cell.type'] == ct].to_numpy()\n",
    "    k = min(len(idx), n_per_type)\n",
    "    random_indices.extend(rng.choice(idx, size=k, replace=False).tolist())\n",
    "\n",
    "\n",
    "adata_random = ad.AnnData(X=data[random_indices])\n",
    "adata_random.obsm[\"X_UMAP\"] = embedding_umap[random_indices]\n",
    "adata_random.obsm[\"X_DenseUMAP\"] = embedding_dumap[random_indices]\n",
    "adata_random.obs[\"cell_type\"] = metadata['cell.type'].values[random_indices]\n",
    "sc.pp.neighbors(adata_random, n_neighbors=50, n_pcs=40, method='gauss')"
   ]
  },
  {
   "cell_type": "code",
   "execution_count": null,
   "metadata": {},
   "outputs": [],
   "source": [
    "selected_types"
   ]
  },
  {
   "cell_type": "code",
   "execution_count": null,
   "metadata": {},
   "outputs": [],
   "source": [
    "umap_embed_test = adata_random.obsm[\"X_UMAP\"].copy()\n",
    "geom = Geometry(\"brute\", laplacian_method=\"geometric\", affinity_kwds={\"radius\": radius}, adjacency_kwds={\"n_neighbors\": n_neighbors}, laplacian_kwds={\"scaling_epps\": 2})\n",
    "H, Hvv, Hs = local_distortions(umap_embed_test, adata_random.X, geom)\n",
    "umap_embed_test = bind_metric(umap_embed_test, Hvv, Hs)\n",
    "umap_embed_test[\"cell_type\"] = adata_random.obs[\"cell_type\"].values\n",
    "summary = {\"umap_kappa\": Hs[:, 0] / Hs[:, 1], \"umap_vol\": Hs[:, 0] * Hs[:, 1]}\n",
    "\n",
    "plots = {}\n",
    "N = {\n",
    "    \"UMAP\": neighborhoods(adata_random, threshold=.4, outlier_factor=3, embed_key=\"X_UMAP\"),\n",
    "    \"DensMAP\": neighborhoods(adata_random, threshold=.4, outlier_factor=3, embed_key=\"X_DenseUMAP\")\n",
    "}\n",
    "\n",
    "plots[\"UMAP_p\"] = dplot(umap_embed_test, width=600, height=500)\\\n",
    "    .mapping(x=\"embedding_0\", y=\"embedding_1\", color=\"cell_type\")\\\n",
    "    .geom_ellipse(radiusMin=1, radiusMax=20)\\\n",
    "    .scale_color(legendTextSize=8)\\\n",
    "    .labs(x=\"UMAP 1\", y=\"UMAP 2\")\\\n",
    "    .inter_edge_link(N=N[\"UMAP\"], threshold=1, backgroundOpacity=0.3, strokeWidth=0.1, strokeOpacity=1, highlightStrokeWidth=1)"
   ]
  },
  {
   "cell_type": "code",
   "execution_count": null,
   "metadata": {},
   "outputs": [],
   "source": [
    "dumap_embed_test = adata_random.obsm[\"X_DenseUMAP\"].copy()\n",
    "geom = Geometry(\"brute\", laplacian_method=\"geometric\", affinity_kwds={\"radius\": radius}, adjacency_kwds={\"n_neighbors\": n_neighbors}, laplacian_kwds={\"scaling_epps\": 2})\n",
    "H, Hvv, Hs = local_distortions(dumap_embed_test, adata_random.X, geom)\n",
    "dumap_embed_test = bind_metric(dumap_embed_test, Hvv, Hs)\n",
    "dumap_embed_test[\"cell_type\"] = adata_random.obs[\"cell_type\"].values\n",
    "plots[\"DensMAP_p\"] = dplot(dumap_embed_test, width=600, height=500)\\\n",
    "    .mapping(x=\"embedding_0\", y=\"embedding_1\", color=\"cell_type\")\\\n",
    "    .geom_ellipse(radiusMin=1, radiusMax=20)\\\n",
    "    .scale_color(legendTextSize=8)\\\n",
    "    .labs(x=\"DensMAP 1\", y=\"DensMAP 2\")\\\n",
    "    .inter_edge_link(N=N[\"DensMAP\"], threshold=1, backgroundOpacity=0.3, strokeWidth=0.1, strokeOpacity=1, highlightStrokeWidth=1)"
   ]
  },
  {
   "cell_type": "code",
   "execution_count": null,
   "metadata": {},
   "outputs": [],
   "source": [
    "metrics = {k: H[k] for k in range(len(H))}\n",
    "plots[\"normal_hair\"] = dplot(umap_embed_test, width=600, height=500)\\\n",
    "    .mapping(x=\"embedding_0\", y=\"embedding_1\", angle=\"angle\", a=\"s0\", b=\"s1\", color=\"cell_type\")\\\n",
    "    .geom_hair(radiusMin=1)\\\n",
    "    .scale_color(legendTextSize=7)\\\n",
    "    .labs(x=\"UMAP 1\", y=\"UMAP 2\")\\\n",
    "    .inter_edge_link(N=N[\"UMAP\"], threshold=1, backgroundOpacity=0.3, strokeWidth=0.1, strokeOpacity=1, highlightStrokeWidth=1, otherClasses=[\"hair\"])"
   ]
  },
  {
   "cell_type": "code",
   "execution_count": null,
   "metadata": {},
   "outputs": [],
   "source": [
    "plots[\"dense_hair\"] = dplot(dumap_embed_test, width=600, height=500)\\\n",
    "    .mapping(x=\"embedding_0\", y=\"embedding_1\", angle=\"angle\", a=\"s0\", b=\"s1\", color=\"cell_type\")\\\n",
    "    .geom_hair(radiusMin=1)\\\n",
    "    .scale_color(legendTextSize=8)\\\n",
    "    .labs(x=\"DensMAP 1\", y=\"DensMAP 2\")\\\n",
    "    .inter_edge_link(N=N[\"DensMAP\"], threshold=1, backgroundOpacity=0.3, strokeWidth=0.1, strokeOpacity=1, highlightStrokeWidth=1, otherClasses=[\"hair\"])"
   ]
  },
  {
   "cell_type": "code",
   "execution_count": null,
   "metadata": {},
   "outputs": [],
   "source": [
    "summary[\"densmap_kappa\"] = Hs[:, 0] / Hs[:, 1]\n",
    "summary[\"densmap_vol\"] = Hs[:, 0] * Hs[:, 1]\n",
    "df_kappa = pd.concat([\n",
    "    pd.DataFrame({'ratio': np.log(summary[\"umap_kappa\"]), 'method': 'umap', 'cell_type': adata_random.obs['cell_type']}),\n",
    "    pd.DataFrame({'ratio': np.log(summary[\"densmap_kappa\"]), 'method': 'densmap'})\n",
    "])\n",
    "\n",
    "kappa_p = alt.Chart(df_kappa).mark_bar(opacity=0.8).encode(\n",
    "    x=alt.X('ratio', bin=alt.Bin(maxbins=50)),\n",
    "    y=alt.Y('count()', stack=None),\n",
    "    color=alt.Color('method:N', legend=alt.Legend(title=\"Method\"))\n",
    ").properties(width=400, height=300)\n",
    "#kappa_p.save(\"../../paper/figures/kappa_p.svg\")"
   ]
  },
  {
   "cell_type": "code",
   "execution_count": null,
   "metadata": {},
   "outputs": [],
   "source": [
    "#[p.save(f\"../../paper/figures/{k}.svg\") for k, p in plots.items()]"
   ]
  },
  {
   "cell_type": "code",
   "execution_count": null,
   "metadata": {},
   "outputs": [],
   "source": [
    "[display(p) for p in plots.values()]"
   ]
  },
  {
   "cell_type": "code",
   "execution_count": null,
   "metadata": {},
   "outputs": [],
   "source": [
    "from tqdm.notebook import tqdm\n",
    "\n",
    "thresholds = np.arange(0.05, 1.0, 0.05)\n",
    "num_keys = {\"UMAP\": [], \"DensMAP\": []}\n",
    "\n",
    "for t in tqdm(thresholds, desc=\"Calculating neighborhood sizes...\"):\n",
    "    N_umap = neighborhoods(adata_random, threshold=t, outlier_factor=3, embed_key=\"X_UMAP\")\n",
    "    N_densmap = neighborhoods(adata_random, threshold=t, outlier_factor=3, embed_key=\"X_DenseUMAP\")\n",
    "    num_keys[\"UMAP\"].append(len(N_umap))\n",
    "    num_keys[\"DensMAP\"].append(len(N_densmap))"
   ]
  },
  {
   "cell_type": "code",
   "execution_count": null,
   "metadata": {},
   "outputs": [],
   "source": [
    "distortion_size = alt.Chart(\n",
    "    pd.DataFrame({\n",
    "        \"threshold\": np.tile(np.round(thresholds, 2), 2),\n",
    "        \"Method\": np.concatenate([[\"UMAP\"] * len(thresholds), [\"DensMAP\"] * len(thresholds)]),\n",
    "        \"Count\": np.concatenate([num_keys[\"UMAP\"], num_keys[\"DensMAP\"]])\n",
    "        })\n",
    "    ).mark_bar().encode(\n",
    "        x=alt.X(\"threshold:N\", title=\"Threshold Fraction\"),\n",
    "        y=alt.Y(\"Count:Q\", title=\"Number of Distorted Neighborhoods\"),\n",
    "        color=alt.Color(\"Method:N\", title=\"Method\")\n",
    "    )\n",
    "\n",
    "#distortion_size.save(\"../../paper/figures/distortion_size.svg\")"
   ]
  },
  {
   "cell_type": "code",
   "execution_count": null,
   "metadata": {},
   "outputs": [],
   "source": []
  }
 ],
 "metadata": {
  "kernelspec": {
   "display_name": "dist2",
   "language": "python",
   "name": "python3"
  },
  "language_info": {
   "codemirror_mode": {
    "name": "ipython",
    "version": 3
   },
   "file_extension": ".py",
   "mimetype": "text/x-python",
   "name": "python",
   "nbconvert_exporter": "python",
   "pygments_lexer": "ipython3",
   "version": "3.12.2"
  }
 },
 "nbformat": 4,
 "nbformat_minor": 2
}
