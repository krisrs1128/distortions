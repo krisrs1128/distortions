{
 "cells": [
  {
   "cell_type": "code",
   "execution_count": null,
   "id": "2138df3c",
   "metadata": {},
   "outputs": [],
   "source": [
    "import pandas as pd\n",
    "import numpy as np\n",
    "np.random.seed(20251023)\n",
    "\n",
    "data = pd.read_json(\"https://raw.githubusercontent.com/krisrs1128/distortions-data/main/data/mammoth_3d.json\")\n",
    "data.columns = [\"x\", \"y\", \"z\"]"
   ]
  },
  {
   "cell_type": "code",
   "execution_count": null,
   "id": "5ca20797",
   "metadata": {},
   "outputs": [],
   "source": [
    "from anndata import AnnData\n",
    "import scanpy as sc\n",
    "\n",
    "n_neighbors = 50\n",
    "adata = AnnData(X=data, obs=pd.DataFrame(index=data.index))\n",
    "sc.pp.neighbors(adata, n_neighbors=n_neighbors)\n",
    "sc.tl.umap(adata)\n",
    "embedding = adata.obsm[\"X_umap\"].copy()"
   ]
  },
  {
   "cell_type": "code",
   "execution_count": null,
   "id": "9536b4e7",
   "metadata": {},
   "outputs": [],
   "source": [
    "import numpy as np\n",
    "\n",
    "radius = 3 * np.mean(adata.obsp[\"distances\"].data)\n",
    "parameters = {\n",
    "    \"radius\": 2 ** (np.linspace(-1, 1, 10)) * radius,\n",
    "    \"scaling_epps\": np.linspace(3, 7, 10)\n",
    "}"
   ]
  },
  {
   "cell_type": "code",
   "execution_count": null,
   "id": "80c63e67",
   "metadata": {},
   "outputs": [],
   "source": [
    "from distortions.geometry import Geometry\n",
    "from distortions.geometry import expand_geoms\n",
    "from distortions.geometry import metric_sensitivity\n",
    "\n",
    "n_neighbors = 50\n",
    "geom = Geometry(\"brute\", laplacian_method=\"geometric\", affinity_kwds={\"radius\": radius}, adjacency_kwds={\"n_neighbors\": n_neighbors}, laplacian_kwds={\"scaling_epps\": 5})\n",
    "geoms, params_df = expand_geoms(geom, parameters)\n",
    "Hvv, Hs = metric_sensitivity(geoms, embedding, data)"
   ]
  },
  {
   "cell_type": "code",
   "execution_count": null,
   "id": "6deb64b0",
   "metadata": {},
   "outputs": [],
   "source": [
    "plot_data = []\n",
    "for i in range(Hs.shape[1]):\n",
    "    for j in range(Hs.shape[0]):\n",
    "        plot_data.append({\n",
    "            \"sample\": i,\n",
    "            \"combination\": j,\n",
    "            \"hv00\": float(Hvv[j, i, 0, 0]),\n",
    "            \"hv11\": float(Hvv[j, i, 1, 1]),\n",
    "            \"hv01\": float(Hvv[j, i, 0, 1]),\n",
    "            \"hv10\": float(Hvv[j, i, 1, 0]),\n",
    "            \"hs0\": float(Hs[j, i, 0]),\n",
    "            \"hs1\": float(Hs[j, i, 1])\n",
    "        })\n",
    "\n",
    "params_df[\"combination\"] = params_df.index\n",
    "plot_df = pd.DataFrame(plot_data)\n",
    "plot_df = plot_df.merge(params_df)"
   ]
  },
  {
   "cell_type": "markdown",
   "id": "5f9cac68",
   "metadata": {},
   "source": [
    "This is variation in the coordinate $H_{00}$ across choices of radius and scaling epsilon."
   ]
  },
  {
   "cell_type": "code",
   "execution_count": null,
   "id": "cccb65a3",
   "metadata": {},
   "outputs": [],
   "source": [
    "import altair as alt\n",
    "alt.data_transformers.enable(\"vegafusion\")\n",
    "\n",
    "random_samples = np.random.choice(plot_df[\"sample\"].unique(), size=20, replace=False)\n",
    "\n",
    "charts = []\n",
    "for i in random_samples:\n",
    "    random_subset = plot_df[plot_df[\"sample\"] == i]\n",
    "    chart_ = alt.Chart(random_subset).mark_rect().encode(\n",
    "        x=alt.X('radius:N', title='Radius', axis=alt.Axis(format='.2f')),\n",
    "        y=alt.Y('scaling_epps:N', title='Epsilon', axis=alt.Axis(format='.2f')),\n",
    "        fill=alt.Fill('hv00:Q', title='h')\n",
    "    )\n",
    "    charts.append(chart_)\n",
    "\n",
    "[display(p) for p in charts]"
   ]
  },
  {
   "cell_type": "markdown",
   "id": "333f747e",
   "metadata": {},
   "source": [
    "Here is change in the singular values across the same parameters."
   ]
  },
  {
   "cell_type": "code",
   "execution_count": null,
   "id": "4e27e8a0",
   "metadata": {},
   "outputs": [],
   "source": [
    "charts = []\n",
    "for i in random_samples:\n",
    "    random_subset = plot_df[plot_df[\"sample\"] == i]\n",
    "    chart_ = alt.Chart(random_subset).mark_rect().encode(\n",
    "        x=alt.X('radius:N', title='Radius', axis=alt.Axis(format='.2f')),\n",
    "        y=alt.Y('scaling_epps:N', title='Epsilon', axis=alt.Axis(format='.2f')),\n",
    "        fill=alt.Fill('hs0:Q', title='h')\n",
    "    )\n",
    "    charts.append(chart_)\n",
    "\n",
    "[display(p) for p in charts]"
   ]
  },
  {
   "cell_type": "markdown",
   "id": "db70e93c",
   "metadata": {},
   "source": [
    "Here are some line plots to visualize sensitivity across **all** samples."
   ]
  },
  {
   "cell_type": "code",
   "execution_count": null,
   "id": "29f4cd74",
   "metadata": {},
   "outputs": [],
   "source": [
    "import altair as alt\n",
    "alt.data_transformers.enable(\"vegafusion\")\n",
    "\n",
    "ixl = np.random.choice(plot_df[\"sample\"].unique(), size=500, replace=False)\n",
    "sub_df = plot_df.loc[plot_df[\"sample\"].isin(ixl)]\n",
    "\n",
    "line_plots = []\n",
    "p = alt.Chart(sub_df).mark_line(size=0.2).encode(\n",
    "    x=alt.X('scaling_epps:Q', title='Rescaling Epsilon'),\n",
    "    y=alt.Y('hv00:Q', title='Hvv[0,0]'),\n",
    "    detail=['sample:N', 'radius:Q']\n",
    ")\n",
    "line_plots.append(p)\n",
    "\n",
    "p = alt.Chart(sub_df).mark_line(size=0.2).encode(\n",
    "    x=alt.X('radius:Q', title='Radius'),\n",
    "    y=alt.Y('hv00:Q', title='Hvv[0,0]'),\n",
    "    detail=['sample:N', 'scaling_epps:Q']\n",
    ")\n",
    "line_plots.append(p)\n",
    "\n",
    "p = alt.Chart(sub_df).mark_line(size=0.2).encode(\n",
    "    x=alt.X('scaling_epps:Q', title='Rescaling Epsilon'),\n",
    "    y=alt.Y('hs0:Q', title='first singular value'),\n",
    "    detail=['sample:N', \"radius:Q\"]\n",
    ")\n",
    "line_plots.append(p)\n",
    "\n",
    "p = alt.Chart(sub_df).mark_line(size=0.2).encode(\n",
    "    x=alt.X('radius:Q', title='Laplacian Radius'),\n",
    "    y=alt.Y('hs0:Q', title='first singular value'),\n",
    "    detail=['sample:N', \"scaling_epps:Q\"]\n",
    ")\n",
    "line_plots.append(p)\n",
    "\n",
    "[display(p) for p in line_plots]"
   ]
  },
  {
   "cell_type": "code",
   "execution_count": null,
   "id": "a80efb6b",
   "metadata": {},
   "outputs": [],
   "source": [
    "import matplotlib.pyplot as plt\n",
    "import matplotlib as mpl\n",
    "\n",
    "def ellipse_sequence(single_sample):\n",
    "    Hvv_i, Hs_i = [], []\n",
    "    for i in range(len(single_sample)):\n",
    "        h = np.array([\n",
    "            [single_sample[\"hv00\"].values[i],\n",
    "            single_sample[\"hv01\"].values[i]],\n",
    "            [single_sample[\"hv10\"].values[i],\n",
    "            single_sample[\"hv11\"].values[i]]\n",
    "        ])\n",
    "        s = np.array([\n",
    "            single_sample[\"hs0\"].values[i],\n",
    "            single_sample[\"hs1\"].values[i]\n",
    "        ])\n",
    "\n",
    "        Hvv_i.append(h)\n",
    "        Hs_i.append(s)\n",
    "    return Hvv_i, Hs_i\n",
    "\n",
    "def plot_ellipses(Hvv_i, Hs_i, sample_df, max_cols=5, cmap_name='cividis'):\n",
    "    \"\"\"\n",
    "    Facet by unique radius values and color ellipses by scaling_epps.\n",
    "\n",
    "    Hvv_i and Hs_i must align with rows of sample_df.\n",
    "    \"\"\"\n",
    "    radii = np.unique(sample_df[\"radius\"].values)\n",
    "    n_r = len(radii)\n",
    "    ncols = min(max_cols, n_r)\n",
    "    nrows = int(np.ceil(n_r / ncols))\n",
    "    fig, axes = plt.subplots(nrows=nrows, ncols=ncols,\n",
    "                             figsize=(4 * ncols, 4 * nrows),\n",
    "                             squeeze=False, constrained_layout=True)\n",
    "    axes_flat = axes.ravel()\n",
    "\n",
    "    # Colormap normalized over scaling_epps in this sample_df\n",
    "    vmin = float(sample_df[\"scaling_epps\"].min())\n",
    "    vmax = float(sample_df[\"scaling_epps\"].max())\n",
    "    cmap = mpl.cm.get_cmap(cmap_name)\n",
    "    norm = mpl.colors.Normalize(vmin=vmin, vmax=vmax)\n",
    "    sm = mpl.cm.ScalarMappable(cmap=cmap, norm=norm)\n",
    "    sm.set_array([])\n",
    "\n",
    "    # Map each radius value to an axis (use enumeration order)\n",
    "    theta = np.linspace(0, 2 * np.pi, 200)\n",
    "    radius_to_ax = {r: axes_flat[i] for i, r in enumerate(radii)}\n",
    "\n",
    "    for idx, (vals, vecs) in enumerate(zip(Hs_i, Hvv_i)):\n",
    "        circle = np.array([np.cos(theta), np.sin(theta)])\n",
    "        ellipse = vecs @ np.diag(np.sqrt(np.abs(vals))) @ circle\n",
    "        radius_val = sample_df[\"radius\"].values[idx]\n",
    "        scaling = float(sample_df[\"scaling_epps\"].values[idx])\n",
    "        color = cmap(norm(scaling))\n",
    "        ax = radius_to_ax[radius_val]\n",
    "        ax.plot(ellipse[0, :], ellipse[1, :], lw=1, color=color, alpha=0.9)\n",
    "        ax.set_title(f\"radius={radius_val:.3g}\")\n",
    "        ax.set_aspect('equal')\n",
    "\n",
    "    # Hide any unused axes\n",
    "    for j in range(len(radii), len(axes_flat)):\n",
    "        axes_flat[j].axis('off')\n",
    "\n",
    "    # Add a colorbar for scaling_epps\n",
    "    cbar = fig.colorbar(sm, ax=axes.ravel().tolist(),\n",
    "                        orientation='horizontal', fraction=0.02, pad=0.04)\n",
    "    cbar.set_label('scaling_epps')\n",
    "    plt.show()"
   ]
  },
  {
   "cell_type": "code",
   "execution_count": null,
   "id": "f382c7a6",
   "metadata": {},
   "outputs": [],
   "source": [
    "for i in random_samples:\n",
    "    sample_df = plot_df[(plot_df[\"sample\"] == i)]\n",
    "    Hvv_i, Hs_i = ellipse_sequence(sample_df)\n",
    "    plot_ellipses(Hvv_i, Hs_i, sample_df)"
   ]
  },
  {
   "cell_type": "markdown",
   "id": "1c56ef81",
   "metadata": {},
   "source": [
    "Almost all the singular vectors were stable -- but a few were not. What might be responsible for this? Let's pick a few examples and analyze in more depth."
   ]
  },
  {
   "cell_type": "code",
   "execution_count": null,
   "id": "1ecc17d2",
   "metadata": {},
   "outputs": [],
   "source": [
    "sub_df"
   ]
  },
  {
   "cell_type": "code",
   "execution_count": null,
   "id": "8330f688",
   "metadata": {},
   "outputs": [],
   "source": [
    "def sample_adj_diffs(df, col='hv00', sort_by='radius'):\n",
    "    # returns DataFrame of adjacent absolute diffs per row (aligned with the\n",
    "    # later row in the pair)\n",
    "    out = []\n",
    "    for s, g in df.groupby('sample'):\n",
    "        g_sorted = g.sort_values(sort_by).reset_index(drop=True)\n",
    "        diffs = g_sorted[col].diff().abs()\n",
    "        for i in range(1, len(g_sorted)):\n",
    "            out.append({\n",
    "                'sample': s,\n",
    "                'abs_diff': float(diffs.iloc[i]),\n",
    "                'radius_prev': float(g_sorted.loc[i-1, sort_by]),\n",
    "                'radius_curr': float(g_sorted.loc[i, sort_by]),\n",
    "                'hv00_prev': float(g_sorted.loc[i-1, col]),\n",
    "                'hv00_curr': float(g_sorted.loc[i, col])\n",
    "            })\n",
    "    return pd.DataFrame(out)\n",
    "\n",
    "# compute all adjacent diffs\n",
    "thresh = 0.1\n",
    "adj = sample_adj_diffs(plot_df, col='hv00', sort_by='radius')\n",
    "adj = adj[adj['abs_diff'] >= thresh].sort_values('abs_diff', ascending=False)\n",
    "adj"
   ]
  },
  {
   "cell_type": "code",
   "execution_count": null,
   "id": "e929f632",
   "metadata": {},
   "outputs": [],
   "source": [
    "for i in adj[\"sample\"].values[:5]:\n",
    "    sample_df = plot_df[(plot_df[\"sample\"] == i)]\n",
    "    Hvv_i, Hs_i = ellipse_sequence(sample_df)\n",
    "    plot_ellipses(Hvv_i, Hs_i, sample_df)"
   ]
  },
  {
   "cell_type": "code",
   "execution_count": null,
   "id": "4c230a96",
   "metadata": {},
   "outputs": [],
   "source": []
  }
 ],
 "metadata": {
  "kernelspec": {
   "display_name": "dist2",
   "language": "python",
   "name": "python3"
  },
  "language_info": {
   "codemirror_mode": {
    "name": "ipython",
    "version": 3
   },
   "file_extension": ".py",
   "mimetype": "text/x-python",
   "name": "python",
   "nbconvert_exporter": "python",
   "pygments_lexer": "ipython3",
   "version": "3.12.2"
  }
 },
 "nbformat": 4,
 "nbformat_minor": 5
}
