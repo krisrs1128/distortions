{
 "cells": [
  {
   "cell_type": "code",
   "execution_count": null,
   "id": "2138df3c",
   "metadata": {},
   "outputs": [],
   "source": [
    "import pandas as pd\n",
    "\n",
    "data = pd.read_json(\"https://raw.githubusercontent.com/krisrs1128/distortions-data/main/data/mammoth_3d.json\")\n",
    "data.columns = [\"x\", \"y\", \"z\"]\n",
    "data = data[:500]"
   ]
  },
  {
   "cell_type": "code",
   "execution_count": null,
   "id": "5ca20797",
   "metadata": {},
   "outputs": [],
   "source": [
    "from anndata import AnnData\n",
    "import scanpy as sc\n",
    "\n",
    "n_neighbors = 50\n",
    "adata = AnnData(X=data, obs=pd.DataFrame(index=data.index))\n",
    "sc.pp.neighbors(adata, n_neighbors=n_neighbors)\n",
    "sc.tl.umap(adata)\n",
    "embedding = adata.obsm[\"X_umap\"].copy()"
   ]
  },
  {
   "cell_type": "code",
   "execution_count": null,
   "id": "9536b4e7",
   "metadata": {},
   "outputs": [],
   "source": [
    "import numpy as np\n",
    "\n",
    "radius = 3\n",
    "parameters = {\n",
    "    \"radius\": 2 ** (np.linspace(-1, 1, 10)) * radius,\n",
    "    \"scaling_epps\": np.linspace(3, 7, 10)\n",
    "}"
   ]
  },
  {
   "cell_type": "code",
   "execution_count": null,
   "id": "80c63e67",
   "metadata": {},
   "outputs": [],
   "source": [
    "from distortions.geometry import Geometry\n",
    "from distortions.geometry import expand_geoms\n",
    "from distortions.geometry import metric_sensitivity\n",
    "\n",
    "n_neighbors = 50\n",
    "geom = Geometry(\"brute\", laplacian_method=\"geometric\", affinity_kwds={\"radius\": radius}, adjacency_kwds={\"n_neighbors\": n_neighbors}, laplacian_kwds={\"scaling_epps\": 5})\n",
    "geoms, params_df = expand_geoms(geom, parameters)\n",
    "Hvv, Hs = metric_sensitivity(geoms, embedding, data)"
   ]
  },
  {
   "cell_type": "code",
   "execution_count": null,
   "id": "6deb64b0",
   "metadata": {},
   "outputs": [],
   "source": [
    "plot_data = []\n",
    "for i in range(Hs.shape[1]):\n",
    "    for j in range(Hs.shape[0]):\n",
    "        plot_data.append({\n",
    "            \"sample\": i,\n",
    "            \"combination\": j,\n",
    "            \"hv00\": float(Hvv[j, i, 0, 0]),\n",
    "            \"hv11\": float(Hvv[j, i, 1, 1]),\n",
    "            \"hv01\": float(Hvv[j, i, 0, 1]),\n",
    "            \"hs0\": float(Hs[j, i, 0]),\n",
    "            \"hs1\": float(Hs[j, i, 1])\n",
    "        })\n",
    "\n",
    "params_df[\"combination\"] = params_df.index\n",
    "plot_df = pd.DataFrame(plot_data)\n",
    "plot_df = plot_df.merge(params_df)"
   ]
  },
  {
   "cell_type": "code",
   "execution_count": null,
   "id": "cccb65a3",
   "metadata": {},
   "outputs": [],
   "source": [
    "import altair as alt\n",
    "alt.data_transformers.enable(\"vegafusion\")\n",
    "\n",
    "random_samples = np.random.choice(plot_df[\"sample\"].unique(), size=20, replace=False)\n",
    "\n",
    "charts = []\n",
    "for i in range(len(random_samples)):\n",
    "    random_subset = plot_df[plot_df[\"sample\"] == i]\n",
    "    chart_ = alt.Chart(random_subset).mark_rect().encode(\n",
    "        x=alt.X('radius:N', title='Radius', axis=alt.Axis(format='.2f')),\n",
    "        y=alt.Y('scaling_epps:N', title='Epsilon', axis=alt.Axis(format='.2f')),\n",
    "        fill=alt.Fill('hv00:Q', title='h')\n",
    "    )\n",
    "    charts.append(chart_)\n",
    "\n",
    "[display(p) for p in charts]"
   ]
  },
  {
   "cell_type": "code",
   "execution_count": null,
   "id": "4e27e8a0",
   "metadata": {},
   "outputs": [],
   "source": [
    "charts = []\n",
    "for i in range(len(random_samples)):\n",
    "    random_subset = plot_df[plot_df[\"sample\"] == i]\n",
    "    chart_ = alt.Chart(random_subset).mark_rect().encode(\n",
    "        x=alt.X('radius:N', title='Radius', axis=alt.Axis(format='.2f')),\n",
    "        y=alt.Y('scaling_epps:N', title='Epsilon', axis=alt.Axis(format='.2f')),\n",
    "        fill=alt.Fill('hs0:Q', title='h')\n",
    "    )\n",
    "    charts.append(chart_)\n",
    "\n",
    "[display(p) for p in charts]"
   ]
  },
  {
   "cell_type": "code",
   "execution_count": null,
   "id": "29f4cd74",
   "metadata": {},
   "outputs": [],
   "source": [
    "import altair as alt\n",
    "alt.data_transformers.enable(\"vegafusion\")\n",
    "\n",
    "alt.Chart(plot_df).mark_line(size=0.2).encode(\n",
    "    x=alt.X('scaling_epps:Q', title='Rescaling Epsilon'),\n",
    "    y=alt.Y('hv00:Q', title='h'),\n",
    "    detail=['sample:N', 'radius:Q']\n",
    ")"
   ]
  },
  {
   "cell_type": "code",
   "execution_count": null,
   "id": "646d0558",
   "metadata": {},
   "outputs": [],
   "source": [
    "alt.Chart(plot_df).mark_line(size=0.2).encode(\n",
    "    x=alt.X('radius:Q', title='Radius'),\n",
    "    y=alt.Y('hv00:Q', title='h'),\n",
    "    detail=['sample:N', 'scaling_epps:Q']\n",
    ")"
   ]
  },
  {
   "cell_type": "code",
   "execution_count": null,
   "id": "ea310e34",
   "metadata": {},
   "outputs": [],
   "source": [
    "alt.Chart(plot_df).mark_line(size=0.2).encode(\n",
    "    x=alt.X('scaling_epps:Q', title='Rescaling Epsilon'),\n",
    "    y=alt.Y('hs0:Q', title='h'),\n",
    "    detail=['sample:N', \"radius:Q\"]\n",
    ")"
   ]
  },
  {
   "cell_type": "code",
   "execution_count": null,
   "id": "435a3590",
   "metadata": {},
   "outputs": [],
   "source": [
    "alt.Chart(plot_df).mark_line(size=0.2).encode(\n",
    "    x=alt.X('radius:Q', title='Laplacian Radius'),\n",
    "    y=alt.Y('hs0:Q', title='h'),\n",
    "    detail=['sample:N', \"scaling_epps:Q\"]\n",
    ")"
   ]
  },
  {
   "cell_type": "code",
   "execution_count": null,
   "id": "c2cd3bf7",
   "metadata": {},
   "outputs": [],
   "source": []
  }
 ],
 "metadata": {
  "kernelspec": {
   "display_name": "dist2",
   "language": "python",
   "name": "python3"
  },
  "language_info": {
   "codemirror_mode": {
    "name": "ipython",
    "version": 3
   },
   "file_extension": ".py",
   "mimetype": "text/x-python",
   "name": "python",
   "nbconvert_exporter": "python",
   "pygments_lexer": "ipython3",
   "version": "3.12.2"
  }
 },
 "nbformat": 4,
 "nbformat_minor": 5
}
