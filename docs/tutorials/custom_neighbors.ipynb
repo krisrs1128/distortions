{
 "cells": [
  {
   "cell_type": "code",
   "execution_count": null,
   "id": "194dec5d",
   "metadata": {},
   "outputs": [],
   "source": [
    "import scanpy as sc\n",
    "\n",
    "counts = sc.datasets.pbmc3k().X.todense().T\n",
    "%load_ext rpy2.ipython"
   ]
  },
  {
   "cell_type": "code",
   "execution_count": null,
   "id": "72bd5641",
   "metadata": {},
   "outputs": [],
   "source": [
    "%%R -i counts\n",
    "\n",
    "library(tidyverse)\n",
    "library(Seurat)\n",
    "library(scDEED)\n",
    "\n",
    "perplexity <- 40\n",
    "data <- CreateSeuratObject(counts) |>\n",
    "    FindVariableFeatures() |>\n",
    "    NormalizeData() |>\n",
    "    ScaleData() |>\n",
    "    RunPCA() |>\n",
    "    RunTSNE(perplexity=perplexity)"
   ]
  },
  {
   "cell_type": "code",
   "execution_count": null,
   "id": "4d8ac33a",
   "metadata": {},
   "outputs": [],
   "source": [
    "%%R\n",
    "\n",
    "embeddings <- Embeddings(data, \"tsne\")\n",
    "normalized_counts <- GetAssayData(data, layer = \"scale.data\") |>\n",
    "    as.matrix() |>\n",
    "    t()"
   ]
  },
  {
   "cell_type": "code",
   "execution_count": null,
   "id": "b8e3d8ef",
   "metadata": {},
   "outputs": [],
   "source": [
    "import numpy as np\n",
    "import rpy2.robjects\n",
    "\n",
    "embeddings = np.array(rpy2.robjects.globalenv['embeddings'])\n",
    "normalized_counts = np.array(rpy2.robjects.globalenv[\"normalized_counts\"])"
   ]
  },
  {
   "cell_type": "code",
   "execution_count": null,
   "id": "b6f24a58",
   "metadata": {},
   "outputs": [],
   "source": [
    "%%R\n",
    "\n",
    "K <- 8\n",
    "result <- scDEED(data, K = K, reduction.method = 'tsne', rerun = F, perplexity = perplexity)\n",
    "dubious <- result$full_results |>\n",
    "    filter(perplexity == perplexity) |>\n",
    "    pull(dubious_cells) |>\n",
    "    str_split(\",\")\n",
    "\n",
    "dubious <- as.integer(dubious[[1]])\n",
    "\n",
    "data <- FindNeighbors(data, features = VariableFeatures(data), k.param = 50)\n",
    "G <- data@graphs$RNA_nn\n",
    "N <- map(dubious, ~ which(G[.x, ] > 0)) |>\n",
    "    set_names(dubious)"
   ]
  },
  {
   "cell_type": "code",
   "execution_count": null,
   "id": "7c7bb7e2",
   "metadata": {},
   "outputs": [],
   "source": [
    "from distortions.geometry import Geometry, bind_metric, local_distortions\n",
    "\n",
    "geom = Geometry(\"brute\", laplacian_method=\"geometric\", affinity_kwds={\"radius\": 20}, adjacency_kwds={\"radius\": 50}, laplacian_kwds={\"scaling_epps\": 5})\n",
    "H, Hvv, Hs = local_distortions(embeddings, normalized_counts, geom)\n",
    "embeddings = bind_metric(embeddings, Hvv, Hs)\n",
    "N = rpy2.robjects.globalenv[\"N\"]\n",
    "N_dict = {int(key): list(val) for key, val in N.items()}"
   ]
  },
  {
   "cell_type": "code",
   "execution_count": null,
   "id": "8b8ea983",
   "metadata": {},
   "outputs": [],
   "source": [
    "from distortions.visualization import dplot\n",
    "\n",
    "plots = {}\n",
    "plots[\"scdeed_distort\"] = dplot(embeddings, width=440, height=440)\\\n",
    "    .mapping(x=\"embedding_0\", y=\"embedding_1\")\\\n",
    "    .geom_ellipse(radiusMax=10, radiusMin=1)\\\n",
    "    .inter_edge_link(N=N_dict, stroke=\"#F25E7A\", highlightColor=\"#C83F58\", strokeWidth=.4, highlightStrokeWidth=5, threshold=10, backgroundOpacity=0.5)"
   ]
  },
  {
   "cell_type": "code",
   "execution_count": null,
   "id": "41a30f89",
   "metadata": {},
   "outputs": [],
   "source": [
    "#[p.save(f\"../paper/figures/{k}.svg\") for k, p in plots.items()]"
   ]
  },
  {
   "cell_type": "code",
   "execution_count": null,
   "id": "5a868712",
   "metadata": {},
   "outputs": [],
   "source": [
    "[display(p) for p in plots.values()]"
   ]
  },
  {
   "cell_type": "code",
   "execution_count": null,
   "id": "6114d2c6",
   "metadata": {},
   "outputs": [],
   "source": []
  }
 ],
 "metadata": {
  "kernelspec": {
   "display_name": "dist2",
   "language": "python",
   "name": "python3"
  },
  "language_info": {
   "codemirror_mode": {
    "name": "ipython",
    "version": 3
   },
   "file_extension": ".py",
   "mimetype": "text/x-python",
   "name": "python",
   "nbconvert_exporter": "python",
   "pygments_lexer": "ipython3",
   "version": "3.12.2"
  }
 },
 "nbformat": 4,
 "nbformat_minor": 5
}
